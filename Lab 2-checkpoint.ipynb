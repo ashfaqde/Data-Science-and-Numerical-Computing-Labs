{
 "cells": [
  {
   "cell_type": "code",
   "execution_count": 2,
   "id": "db54f4b0-b0b5-470e-88ff-c47dd36129be",
   "metadata": {},
   "outputs": [
    {
     "name": "stdout",
     "output_type": "stream",
     "text": [
      "6\n",
      "20.0\n",
      "4.5\n",
      "-4.5\n",
      "-5\n",
      "1\n",
      "1.0\n",
      "1.0\n",
      "-1\n",
      "1\n",
      "-4.5\n",
      "19\n",
      "35\n"
     ]
    }
   ],
   "source": [
    "result_a = 9 - 3\n",
    "print(result_a)\n",
    "\n",
    "result_b = 8 * 2.5\n",
    "print(result_b)\n",
    "\n",
    "result_c = 9 / 2\n",
    "print(result_c)\n",
    "\n",
    "result_d = 9 / -2\n",
    "print(result_d)\n",
    "\n",
    "result_e = 9 // -2\n",
    "print(result_e)\n",
    "\n",
    "result_f = 9 % 2\n",
    "print(result_f)\n",
    "\n",
    "result_g = 9.0 % 2\n",
    "print(result_g)\n",
    "\n",
    "result_h = 9 % 2.0\n",
    "print(result_h)\n",
    "\n",
    "result_i = 9 % -2\n",
    "print(result_i)\n",
    "\n",
    "result_j = -9 % 2\n",
    "print(result_j)\n",
    "\n",
    "result_k = 9 / -2.0\n",
    "print(result_k)\n",
    "\n",
    "result_l = 4 + 3 * 5\n",
    "print(result_l)\n",
    "\n",
    "result_m = (4 + 3) * 5\n",
    "print(result_m)"
   ]
  },
  {
   "cell_type": "code",
   "execution_count": 3,
   "id": "43213a68-2727-45ed-b940-4b1fe78dd547",
   "metadata": {},
   "outputs": [
    {
     "name": "stdout",
     "output_type": "stream",
     "text": [
      "7---14---21---28---35\n"
     ]
    }
   ],
   "source": [
    "x = 7\n",
    "\n",
    "print(x, 2*x, 3*x, 4*x, 5*x, sep='---')"
   ]
  },
  {
   "cell_type": "code",
   "execution_count": 5,
   "id": "e97015d6-d40e-4bf6-894a-7836829ab10e",
   "metadata": {},
   "outputs": [
    {
     "name": "stdin",
     "output_type": "stream",
     "text": [
      "First num: 24\n",
      "Second num: 32\n"
     ]
    },
    {
     "name": "stdout",
     "output_type": "stream",
     "text": [
      "Sum: 56.0\n",
      "Product: 768.0\n",
      "Difference: -8.0\n",
      "Quotient: 0.75\n",
      "Remainder: 24.0\n"
     ]
    }
   ],
   "source": [
    "num1 = float(input(\"First num:\"))\n",
    "\n",
    "num2 = float(input(\"Second num:\"))\n",
    "\n",
    "sum_result = num1 + num2\n",
    "\n",
    "product_result = num1 * num2\n",
    "\n",
    "difference_result = num1 - num2\n",
    "\n",
    "quotient_result = num1 / num2\n",
    "\n",
    "remainder_result = num1 % num2\n",
    "\n",
    "print(\"Sum:\", sum_result)\n",
    "print(\"Product:\", product_result)\n",
    "print(\"Difference:\", difference_result)\n",
    "print(\"Quotient:\", quotient_result)\n",
    "print(\"Remainder:\", remainder_result)"
   ]
  },
  {
   "cell_type": "code",
   "execution_count": 7,
   "id": "6a4fde92-3938-4eef-9d94-ff2e415ebb0d",
   "metadata": {},
   "outputs": [
    {
     "name": "stdin",
     "output_type": "stream",
     "text": [
      "Enter the radius of the circle:  2\n"
     ]
    },
    {
     "name": "stdout",
     "output_type": "stream",
     "text": [
      "Diameter: 4.0\n",
      "Circumference: 12.56636\n",
      "Area: 12.56636\n"
     ]
    }
   ],
   "source": [
    "pi = 3.14159\n",
    "\n",
    "radius = float(input(\"Enter the radius of the circle: \"))\n",
    "\n",
    "diameter = 2 * radius\n",
    "\n",
    "circumference = 2 * pi * radius\n",
    "\n",
    "area = pi * (radius ** 2)\n",
    "\n",
    "print(\"Diameter:\", diameter)\n",
    "print(\"Circumference:\", circumference)\n",
    "print(\"Area:\", area)"
   ]
  },
  {
   "cell_type": "code",
   "execution_count": 8,
   "id": "c4055c0b-b2fa-4242-875c-6044368fcdac",
   "metadata": {},
   "outputs": [
    {
     "name": "stdin",
     "output_type": "stream",
     "text": [
      "Enter an integer:  5\n"
     ]
    },
    {
     "name": "stdout",
     "output_type": "stream",
     "text": [
      "5 is odd.\n"
     ]
    }
   ],
   "source": [
    "number = int(input(\"Enter an integer: \"))\n",
    "\n",
    "if number % 2 == 0:\n",
    "    print(f\"{number} is even.\")\n",
    "else:\n",
    "    print(f\"{number} is odd.\")"
   ]
  },
  {
   "cell_type": "code",
   "execution_count": 9,
   "id": "0eec56e0-a4b1-4f1c-a325-1032fbed707e",
   "metadata": {},
   "outputs": [
    {
     "name": "stdin",
     "output_type": "stream",
     "text": [
      "Enter the first integer:  3\n",
      "Enter the second integer:  4\n",
      "Enter the third integer:  5\n"
     ]
    },
    {
     "name": "stdout",
     "output_type": "stream",
     "text": [
      "Smallest is 3\n",
      "Largest is 5\n"
     ]
    }
   ],
   "source": [
    "num1 = int(input(\"Enter the first integer: \"))\n",
    "num2 = int(input(\"Enter the second integer: \"))\n",
    "num3 = int(input(\"Enter the third integer: \"))\n",
    "\n",
    "smallest = num1\n",
    "largest = num1\n",
    "\n",
    "if num2 < smallest:\n",
    "    smallest = num2\n",
    "if num3 < smallest:\n",
    "    smallest = num3\n",
    "\n",
    "if num2 > largest:\n",
    "    largest = num2\n",
    "if num3 > largest:\n",
    "    largest = num3\n",
    "\n",
    "print(\"Smallest is\", smallest)\n",
    "print(\"Largest is\", largest)"
   ]
  },
  {
   "cell_type": "code",
   "execution_count": 10,
   "id": "91370b9e-6246-4c75-882f-4ee9f7cbcb76",
   "metadata": {},
   "outputs": [],
   "source": [
    "result_n = 6 * -----------8  # This is valid."
   ]
  },
  {
   "cell_type": "code",
   "execution_count": 11,
   "id": "a561c340-f479-4d9d-b401-7655fcfb732b",
   "metadata": {},
   "outputs": [
    {
     "ename": "SyntaxError",
     "evalue": "cannot assign to literal here. Maybe you meant '==' instead of '='? (4103055750.py, line 1)",
     "output_type": "error",
     "traceback": [
      "\u001b[1;36m  Cell \u001b[1;32mIn[11], line 1\u001b[1;36m\u001b[0m\n\u001b[1;33m    8 = people\u001b[0m\n\u001b[1;37m    ^\u001b[0m\n\u001b[1;31mSyntaxError\u001b[0m\u001b[1;31m:\u001b[0m cannot assign to literal here. Maybe you meant '==' instead of '='?\n"
     ]
    }
   ],
   "source": [
    "8 = people\n",
    "Result: This expression results in a SyntaxError.\n",
    "Reason: In Python, the assignment operator (=) is used to assign a value to a variable. The left side of the assignment must be a variable name, not a literal value like 8. Assigning to a literal value like 8 is not allowed.\n",
    "Correct Code:\n",
    "people = 8"
   ]
  },
  {
   "cell_type": "code",
   "execution_count": 12,
   "id": "904a2fd8-599b-4194-a2f6-30f68aa2c5e6",
   "metadata": {},
   "outputs": [],
   "source": [
    "result_p = ((((4 ** 3))))  # This is valid."
   ]
  },
  {
   "cell_type": "code",
   "execution_count": 13,
   "id": "4c24ade1-db1a-46f8-95c6-72a7660f3595",
   "metadata": {},
   "outputs": [],
   "source": [
    "result_q = (-(-(-(-5))))  # This is valid."
   ]
  },
  {
   "cell_type": "code",
   "execution_count": 14,
   "id": "6a0fb04e-9558-4d59-bedf-b67f3c1eee5a",
   "metadata": {},
   "outputs": [
    {
     "ename": "SyntaxError",
     "evalue": "'literal' is an illegal expression for augmented assignment (1834963075.py, line 1)",
     "output_type": "error",
     "traceback": [
      "\u001b[1;36m  Cell \u001b[1;32mIn[14], line 1\u001b[1;36m\u001b[0m\n\u001b[1;33m    4 += 7 / 2\u001b[0m\n\u001b[1;37m    ^\u001b[0m\n\u001b[1;31mSyntaxError\u001b[0m\u001b[1;31m:\u001b[0m 'literal' is an illegal expression for augmented assignment\n"
     ]
    }
   ],
   "source": [
    "4 += 7 / 2\n",
    "Result: This expression results in a SyntaxError.\n",
    "Reason: The += operator is used to add a value to a variable and then assign the result back to the same variable. However, in this case, 4 is a literal value, not a variable, and cannot be used with the += operator.\n",
    "Correct Code:\n",
    "number = 4\n",
    "number += 7 / 2"
   ]
  },
  {
   "cell_type": "code",
   "execution_count": 15,
   "id": "0ce00808-d41b-43a2-9939-2712967c5177",
   "metadata": {},
   "outputs": [
    {
     "name": "stdout",
     "output_type": "stream",
     "text": [
      "Number\tSquare\tCube\n",
      "0\t0\t0\n",
      "1\t1\t1\n",
      "2\t4\t8\n",
      "3\t9\t27\n",
      "4\t16\t64\n",
      "5\t25\t125\n",
      "6\t36\t216\n",
      "7\t49\t343\n",
      "8\t64\t512\n",
      "9\t81\t729\n",
      "10\t100\t1000\n"
     ]
    }
   ],
   "source": [
    "print(\"Number\\tSquare\\tCube\")\n",
    "\n",
    "for num in range(11):\n",
    "\n",
    "    square = num ** 2\n",
    "    cube = num ** 3\n",
    "    \n",
    "    print(f\"{num}\\t{square}\\t{cube}\")"
   ]
  },
  {
   "cell_type": "code",
   "execution_count": 16,
   "id": "e716283e-e120-465d-ac87-22d0ae910ffa",
   "metadata": {},
   "outputs": [
    {
     "name": "stdout",
     "output_type": "stream",
     "text": [
      "Original values:\n",
      "a = 5\n",
      "b = 10\n",
      "\n",
      "Swapped values:\n",
      "a = 10\n",
      "b = 5\n"
     ]
    }
   ],
   "source": [
    "a = 5\n",
    "b = 10\n",
    "\n",
    "print(\"Original values:\")\n",
    "print(\"a =\", a)\n",
    "print(\"b =\", b)\n",
    "\n",
    "temp = a\n",
    "a = b\n",
    "b = temp\n",
    "\n",
    "print(\"\\nSwapped values:\")\n",
    "print(\"a =\", a)\n",
    "print(\"b =\", b)"
   ]
  },
  {
   "cell_type": "code",
   "execution_count": 17,
   "id": "14d7b276-2c1c-4f8a-a874-e0ed7109b0f9",
   "metadata": {},
   "outputs": [
    {
     "name": "stdin",
     "output_type": "stream",
     "text": [
      "Enter a five-digit number:  67890\n"
     ]
    },
    {
     "name": "stdout",
     "output_type": "stream",
     "text": [
      "Reversed number: 9876\n"
     ]
    }
   ],
   "source": [
    "number = int(input(\"Enter a five-digit number: \"))\n",
    "\n",
    "if 10000 <= number <= 99999:\n",
    "   \n",
    "    digit1 = number % 10\n",
    "    number = number // 10\n",
    "    \n",
    "    digit2 = number % 10\n",
    "    number = number // 10\n",
    "    \n",
    "    digit3 = number % 10\n",
    "    number = number // 10\n",
    "    \n",
    "    digit4 = number % 10\n",
    "    number = number // 10\n",
    "    \n",
    "    digit5 = number % 10\n",
    "    \n",
    "    reversed_number = digit1 * 10000 + digit2 * 1000 + digit3 * 100 + digit4 * 10 + digit5\n",
    "    \n",
    "    print(\"Reversed number:\", reversed_number)\n",
    "else:\n",
    "    print(\"Please enter a valid five-digit number.\")"
   ]
  },
  {
   "cell_type": "code",
   "execution_count": 18,
   "id": "981e3721-0b8e-45b6-b522-67f53b83c05a",
   "metadata": {},
   "outputs": [
    {
     "name": "stdout",
     "output_type": "stream",
     "text": [
      "Box:\n",
      "*********\n",
      "*       *\n",
      "*       *\n",
      "*       *\n",
      "*********\n",
      "\n",
      "Oval:\n",
      "   ***   \n",
      " *     * \n",
      "*       *\n",
      "*       *\n",
      " *     * \n",
      "   ***   \n",
      "\n",
      "Arrow:\n",
      "    *    \n",
      "   ***   \n",
      "  *****  \n",
      "    *    \n",
      "    *    \n",
      "    *    \n",
      "    *    \n",
      "\n",
      "Diamond:\n",
      "    *    \n",
      "   * *   \n",
      "  *   *  \n",
      " *     * \n",
      "  *   *  \n",
      "   * *   \n",
      "    *    \n"
     ]
    }
   ],
   "source": [
    "print(\"Box:\")\n",
    "print(\"*********\")\n",
    "print(\"*       *\")\n",
    "print(\"*       *\")\n",
    "print(\"*       *\")\n",
    "print(\"*********\")\n",
    "\n",
    "print()\n",
    "\n",
    "print(\"Oval:\")\n",
    "print(\"   ***   \")\n",
    "print(\" *     * \")\n",
    "print(\"*       *\")\n",
    "print(\"*       *\")\n",
    "print(\" *     * \")\n",
    "print(\"   ***   \")\n",
    "\n",
    "print()\n",
    "\n",
    "print(\"Arrow:\")\n",
    "print(\"    *    \")\n",
    "print(\"   ***   \")\n",
    "print(\"  *****  \")\n",
    "print(\"    *    \")\n",
    "print(\"    *    \")\n",
    "print(\"    *    \")\n",
    "print(\"    *    \")\n",
    "\n",
    "print()\n",
    "\n",
    "print(\"Diamond:\")\n",
    "print(\"    *    \")\n",
    "print(\"   * *   \")\n",
    "print(\"  *   *  \")\n",
    "print(\" *     * \")\n",
    "print(\"  *   *  \")\n",
    "print(\"   * *   \")\n",
    "print(\"    *    \")"
   ]
  },
  {
   "cell_type": "code",
   "execution_count": 19,
   "id": "df237707-600a-4198-8b3e-2a3f4432a441",
   "metadata": {},
   "outputs": [
    {
     "name": "stdin",
     "output_type": "stream",
     "text": [
      "Enter the first integer:  6\n",
      "Enter the second integer:  8\n",
      "Enter the third integer:  10\n"
     ]
    },
    {
     "name": "stdout",
     "output_type": "stream",
     "text": [
      "The three integers are the sides of a right triangle.\n"
     ]
    }
   ],
   "source": [
    "def is_right_triangle(a, b, c):\n",
    "    \n",
    "    sides = sorted([a, b, c])\n",
    "    \n",
    "    return sides[0]**2 + sides[1]**2 == sides[2]**2\n",
    "\n",
    "a = int(input(\"Enter the first integer: \"))\n",
    "b = int(input(\"Enter the second integer: \"))\n",
    "c = int(input(\"Enter the third integer: \"))\n",
    "\n",
    "if a > 0 and b > 0 and c > 0:\n",
    "    if is_right_triangle(a, b, c):\n",
    "        print(\"The three integers are the sides of a right triangle.\")\n",
    "    else:\n",
    "        print(\"The three integers are not the sides of a right triangle.\")\n",
    "else:\n",
    "    print(\"Please enter nonzero integers.\")"
   ]
  },
  {
   "cell_type": "code",
   "execution_count": 20,
   "id": "e49aa5ea-c224-4b2b-999c-abb12f2a3dbf",
   "metadata": {},
   "outputs": [
    {
     "name": "stdin",
     "output_type": "stream",
     "text": [
      "Enter a score between 0.0 and 1.0:  0.75\n"
     ]
    },
    {
     "name": "stdout",
     "output_type": "stream",
     "text": [
      "The grade is: C\n"
     ]
    }
   ],
   "source": [
    "score = float(input(\"Enter a score between 0.0 and 1.0: \"))\n",
    "\n",
    "if score < 0.0 or score > 1.0:\n",
    "    print(\"Error: Score is out of range. Please enter a score between 0.0 and 1.0.\")\n",
    "else:\n",
    "    if score >= 0.9:\n",
    "        grade = \"A\"\n",
    "    elif score >= 0.8:\n",
    "        grade = \"B\"\n",
    "    elif score >= 0.7:\n",
    "        grade = \"C\"\n",
    "    elif score >= 0.6:\n",
    "        grade = \"D\"\n",
    "    else:\n",
    "        grade = \"F\"\n",
    "\n",
    "    print(\"The grade is:\", grade)"
   ]
  },
  {
   "cell_type": "code",
   "execution_count": null,
   "id": "5d67d1eb-8001-4d1a-8b5c-6907c5603334",
   "metadata": {},
   "outputs": [],
   "source": []
  }
 ],
 "metadata": {
  "kernelspec": {
   "display_name": "Python 3 (ipykernel)",
   "language": "python",
   "name": "python3"
  },
  "language_info": {
   "codemirror_mode": {
    "name": "ipython",
    "version": 3
   },
   "file_extension": ".py",
   "mimetype": "text/x-python",
   "name": "python",
   "nbconvert_exporter": "python",
   "pygments_lexer": "ipython3",
   "version": "3.11.7"
  }
 },
 "nbformat": 4,
 "nbformat_minor": 5
}
