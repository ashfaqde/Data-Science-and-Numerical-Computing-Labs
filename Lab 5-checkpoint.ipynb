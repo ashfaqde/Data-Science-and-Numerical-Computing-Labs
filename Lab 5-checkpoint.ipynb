{
 "cells": [
  {
   "cell_type": "code",
   "execution_count": 1,
   "id": "4b5a88d1-9885-4b0f-93db-8e1adcc1b0c6",
   "metadata": {},
   "outputs": [
    {
     "name": "stdin",
     "output_type": "stream",
     "text": [
      "Enter a line of text:  i am student of data sciences\n"
     ]
    },
    {
     "name": "stdout",
     "output_type": "stream",
     "text": [
      "Text in uppercase:  I AM STUDENT OF DATA SCIENCES\n",
      "Text in lowercase:  i am student of data sciences\n"
     ]
    }
   ],
   "source": [
    "def main():\n",
    "  \n",
    "    text = input(\"Enter a line of text: \")\n",
    "    \n",
    "    uppercase_text = text.upper()\n",
    "    lowercase_text = text.lower()\n",
    "    \n",
    "    print(\"Text in uppercase: \", uppercase_text)\n",
    "    print(\"Text in lowercase: \", lowercase_text)\n",
    "\n",
    "main()"
   ]
  },
  {
   "cell_type": "code",
   "execution_count": 2,
   "id": "994a7cbb-5870-40cb-ae3b-9910a1f872cb",
   "metadata": {},
   "outputs": [
    {
     "name": "stdin",
     "output_type": "stream",
     "text": [
      "Enter a string:  we are playing football\n"
     ]
    },
    {
     "name": "stdout",
     "output_type": "stream",
     "text": [
      "Estimated number of words in the string:  4\n"
     ]
    }
   ],
   "source": [
    "def main1():\n",
    "\n",
    "    text = input(\"Enter a string: \")\n",
    "    \n",
    "    space_count = text.count(' ')\n",
    "    \n",
    "    word_count = space_count + 1\n",
    "    \n",
    "    print(\"Estimated number of words in the string: \", word_count)\n",
    "\n",
    "main1()"
   ]
  },
  {
   "cell_type": "code",
   "execution_count": 3,
   "id": "3433c23a-5ea3-4a84-bf52-09c1b80739c2",
   "metadata": {},
   "outputs": [
    {
     "name": "stdin",
     "output_type": "stream",
     "text": [
      "Enter a string:  i am walking on the road\n"
     ]
    },
    {
     "name": "stdout",
     "output_type": "stream",
     "text": [
      "Resulting string: i am walking on the road\n"
     ]
    }
   ],
   "source": [
    "def main2():\n",
    "    s = input(\"Enter a string: \")\n",
    "   \n",
    "    s = s.lower()\n",
    "    \n",
    "    s = s.replace('.', '').replace(',', '')\n",
    "    \n",
    "    print(\"Resulting string:\", s)\n",
    "\n",
    "main2()"
   ]
  },
  {
   "cell_type": "code",
   "execution_count": 4,
   "id": "174c7238-42fa-46fb-8a27-affbb0846eb5",
   "metadata": {},
   "outputs": [
    {
     "name": "stdout",
     "output_type": "stream",
     "text": [
      "After removing 3382: [4353, 2314, 2956, 9362, 3900]\n",
      "Index of 9362: 3\n",
      "After inserting 4499 after 9362: [4353, 2314, 2956, 9362, 4499, 3900]\n",
      "After extending the list with [5566, 1830]: [4353, 2314, 2956, 9362, 4499, 3900, 5566, 1830]\n",
      "After reversing the list: [1830, 5566, 3900, 4499, 9362, 2956, 2314, 4353]\n",
      "After sorting the list: [1830, 2314, 2956, 3900, 4353, 4499, 5566, 9362]\n"
     ]
    }
   ],
   "source": [
    "ids = [4353, 2314, 2956, 3382, 9362, 3900]\n",
    "\n",
    "ids.remove(3382)\n",
    "print(f\"After removing 3382: {ids}\")\n",
    "\n",
    "index_9362 = ids.index(9362)\n",
    "print(f\"Index of 9362: {index_9362}\")\n",
    "\n",
    "ids.insert(index_9362 + 1, 4499)\n",
    "print(f\"After inserting 4499 after 9362: {ids}\")\n",
    "\n",
    "ids.extend([5566, 1830])\n",
    "print(f\"After extending the list with [5566, 1830]: {ids}\")\n",
    "\n",
    "ids.reverse()\n",
    "print(f\"After reversing the list: {ids}\")\n",
    "\n",
    "ids.sort()\n",
    "print(f\"After sorting the list: {ids}\")"
   ]
  },
  {
   "cell_type": "code",
   "execution_count": 5,
   "id": "ebfc130b-5dc5-4567-b493-e9c44c917f3d",
   "metadata": {},
   "outputs": [
    {
     "name": "stdout",
     "output_type": "stream",
     "text": [
      "Roll      Count     Percentage\n",
      "------------------------------\n",
      "2         251       2.51%\n",
      "3         562       5.62%\n",
      "4         825       8.25%\n",
      "5         1098      10.98%\n",
      "6         1431      14.31%\n",
      "7         1629      16.29%\n",
      "8         1418      14.18%\n",
      "9         1145      11.45%\n",
      "10        813       8.13%\n",
      "11        569       5.69%\n",
      "12        259       2.59%\n"
     ]
    }
   ],
   "source": [
    "import random\n",
    "\n",
    "def roll_dice():\n",
    "    return random.randint(1, 6) + random.randint(1, 6)\n",
    "\n",
    "def simulate_rolls(num_rolls):\n",
    "    roll_counts = [0] * 13  \n",
    "    \n",
    "    for _ in range(num_rolls):\n",
    "        result = roll_dice()\n",
    "        roll_counts[result] += 1\n",
    "    \n",
    "    return roll_counts\n",
    "\n",
    "def print_results(roll_counts, num_rolls):\n",
    "    print(f\"{'Roll':<10}{'Count':<10}{'Percentage':<10}\")\n",
    "    print(\"-\" * 30)\n",
    "    \n",
    "    for roll in range(2, 13):\n",
    "        count = roll_counts[roll]\n",
    "        percentage = (count / num_rolls) * 100\n",
    "        print(f\"{roll:<10}{count:<10}{percentage:.2f}%\")\n",
    "\n",
    "def main():\n",
    "    num_rolls = 10000 \n",
    "    roll_counts = simulate_rolls(num_rolls)\n",
    "    print_results(roll_counts, num_rolls)\n",
    "\n",
    "main()"
   ]
  },
  {
   "cell_type": "code",
   "execution_count": 6,
   "id": "9d809a32-e3fe-4f19-a40a-66d335ed0517",
   "metadata": {},
   "outputs": [
    {
     "name": "stdout",
     "output_type": "stream",
     "text": [
      "List of 99 random numbers: [65, 38, 7, 39, 21, 78, 3, 61, 26, 99, 44, 34, 86, 71, 22, 81, 65, 37, 24, 79, 45, 58, 79, 51, 85, 74, 27, 30, 80, 15, 20, 80, 5, 53, 100, 14, 44, 87, 80, 43, 4, 8, 16, 50, 67, 32, 14, 1, 6, 59, 52, 67, 6, 89, 17, 59, 69, 24, 76, 29, 92, 86, 33, 75, 96, 18, 84, 100, 46, 64, 22, 58, 9, 80, 97, 92, 37, 86, 23, 28, 14, 26, 3, 32, 99, 67, 34, 47, 12, 94, 76, 2, 40, 94, 100, 73, 30, 50, 24]\n",
      "Mean: 49\n",
      "Median: 47\n",
      "Mode: 80\n"
     ]
    }
   ],
   "source": [
    "import random\n",
    "from collections import Counter\n",
    "\n",
    "def mean(numbers):\n",
    "    return sum(numbers) // len(numbers)\n",
    "\n",
    "def median(numbers):\n",
    "    sorted_numbers = sorted(numbers)\n",
    "    n = len(sorted_numbers)\n",
    "    mid = n // 2\n",
    "\n",
    "    if n % 2 == 1:\n",
    "        return sorted_numbers[mid]\n",
    "    else:\n",
    "        return (sorted_numbers[mid - 1] + sorted_numbers[mid]) // 2\n",
    "\n",
    "def mode(numbers):\n",
    "    frequency = Counter(numbers)\n",
    "    mode_data = frequency.most_common(1)\n",
    "    return mode_data[0][0]\n",
    "\n",
    "def main():\n",
    "    random_numbers = [random.randint(1, 100) for _ in range(99)]\n",
    "    \n",
    "    computed_mean = mean(random_numbers)\n",
    "    computed_median = median(random_numbers)\n",
    "    computed_mode = mode(random_numbers)\n",
    "    \n",
    "    print(f\"List of 99 random numbers: {random_numbers}\")\n",
    "    print(f\"Mean: {computed_mean}\")\n",
    "    print(f\"Median: {computed_median}\")\n",
    "    print(f\"Mode: {computed_mode}\")\n",
    "\n",
    "main()"
   ]
  },
  {
   "cell_type": "code",
   "execution_count": 7,
   "id": "d0d317be-811a-49cd-9f00-90cec85bcaeb",
   "metadata": {},
   "outputs": [
    {
     "name": "stdout",
     "output_type": "stream",
     "text": [
      "Original list: [1, 2, 3, 4, 5]\n",
      "Rotated list: [5, 1, 2, 3, 4]\n"
     ]
    }
   ],
   "source": [
    "def rotate_list(lst):\n",
    "    if len(lst) == 0:\n",
    "        return lst\n",
    "  \n",
    "    rotated_list = lst[-1:] + lst[:-1]\n",
    "    return rotated_list\n",
    "\n",
    "def main():\n",
    "    my_list = [1, 2, 3, 4, 5]\n",
    "    \n",
    "    rotated_list = rotate_list(my_list)\n",
    "    \n",
    "    print(\"Original list:\", my_list)\n",
    "    print(\"Rotated list:\", rotated_list)\n",
    "\n",
    "main()"
   ]
  },
  {
   "cell_type": "code",
   "execution_count": 8,
   "id": "38441d6e-489c-40da-ac1d-33d2ee245c40",
   "metadata": {},
   "outputs": [
    {
     "name": "stdout",
     "output_type": "stream",
     "text": [
      "Random binary list: [0, 0, 0, 0, 1, 1, 1, 0, 0, 1, 1, 0, 1, 1, 0, 0, 1, 0, 1, 0, 1, 1, 0, 1, 1, 1, 1, 1, 1, 1, 0, 1, 0, 1, 1, 1, 1, 1, 1, 1, 0, 0, 1, 1, 1, 1, 1, 0, 0, 1, 0, 0, 1, 0, 0, 1, 0, 0, 1, 1, 0, 1, 1, 0, 0, 0, 1, 1, 0, 0, 0, 0, 1, 1, 0, 1, 0, 1, 1, 1, 1, 1, 1, 1, 0, 1, 1, 1, 1, 0, 0, 0, 0, 1, 1, 1, 0, 1, 1, 1]\n",
      "Longest run of zeros: 4\n"
     ]
    }
   ],
   "source": [
    "import random\n",
    "\n",
    "def generate_random_binary_list(size=100):\n",
    "    return [random.randint(0, 1) for _ in range(size)]\n",
    "\n",
    "def find_longest_run_of_zeros(binary_list):\n",
    "    max_run = 0\n",
    "    current_run = 0\n",
    "    \n",
    "    for num in binary_list:\n",
    "        if num == 0:\n",
    "            current_run += 1\n",
    "            max_run = max(max_run, current_run)\n",
    "        else:\n",
    "            current_run = 0\n",
    "    \n",
    "    return max_run\n",
    "\n",
    "def main():\n",
    "    binary_list = generate_random_binary_list(100)\n",
    "  \n",
    "    longest_run = find_longest_run_of_zeros(binary_list)\n",
    "    \n",
    "    print(\"Random binary list:\", binary_list)\n",
    "    print(\"Longest run of zeros:\", longest_run)\n",
    "\n",
    "main()"
   ]
  },
  {
   "cell_type": "code",
   "execution_count": 9,
   "id": "b1eb7fc2-0a89-43ba-9401-609c5d10aff8",
   "metadata": {},
   "outputs": [
    {
     "name": "stdin",
     "output_type": "stream",
     "text": [
      "Enter the size of the matrix (e.g., 3 for a 3x3 matrix):  3 \n"
     ]
    },
    {
     "name": "stdout",
     "output_type": "stream",
     "text": [
      "Enter the elements of the 3x3 matrix row by row:\n"
     ]
    },
    {
     "name": "stdin",
     "output_type": "stream",
     "text": [
      "Enter row 1 (space-separated):  2 5 6\n",
      "Enter row 2 (space-separated):  3 8 9\n",
      "Enter row 3 (space-separated):  4 5 8\n"
     ]
    },
    {
     "name": "stdout",
     "output_type": "stream",
     "text": [
      "\n",
      "Original Matrix:\n",
      "[[2 5 6]\n",
      " [3 8 9]\n",
      " [4 5 8]]\n",
      "\n",
      "Transpose of the Matrix:\n",
      "[[2 3 4]\n",
      " [5 8 5]\n",
      " [6 9 8]]\n",
      "\n",
      "Product of Original Matrix and its Transpose:\n",
      "[[ 65 100  81]\n",
      " [100 154 124]\n",
      " [ 81 124 105]]\n"
     ]
    }
   ],
   "source": [
    "import numpy as np\n",
    "\n",
    "def read_matrix(size):\n",
    "    matrix = []\n",
    "    print(f\"Enter the elements of the {size}x{size} matrix row by row:\")\n",
    "    for i in range(size):\n",
    "        row = list(map(int, input(f\"Enter row {i + 1} (space-separated): \").split()))\n",
    "        if len(row) != size:\n",
    "            raise ValueError(f\"Each row must have exactly {size} elements.\")\n",
    "        matrix.append(row)\n",
    "    return np.array(matrix)\n",
    "\n",
    "def main():\n",
    "    size = int(input(\"Enter the size of the matrix (e.g., 3 for a 3x3 matrix): \"))\n",
    "    \n",
    "    matrix = read_matrix(size)\n",
    "    \n",
    "    transpose_matrix = matrix.T\n",
    "    \n",
    "    product_matrix = np.dot(matrix, transpose_matrix)\n",
    "\n",
    "    print(\"\\nOriginal Matrix:\")\n",
    "    print(matrix)\n",
    "    \n",
    "    print(\"\\nTranspose of the Matrix:\")\n",
    "    print(transpose_matrix)\n",
    "    \n",
    "    print(\"\\nProduct of Original Matrix and its Transpose:\")\n",
    "    print(product_matrix)\n",
    "\n",
    "main()"
   ]
  },
  {
   "cell_type": "code",
   "execution_count": null,
   "id": "4ff767e5-b473-453b-a323-01ce155c4d7e",
   "metadata": {},
   "outputs": [],
   "source": []
  }
 ],
 "metadata": {
  "kernelspec": {
   "display_name": "Python 3 (ipykernel)",
   "language": "python",
   "name": "python3"
  },
  "language_info": {
   "codemirror_mode": {
    "name": "ipython",
    "version": 3
   },
   "file_extension": ".py",
   "mimetype": "text/x-python",
   "name": "python",
   "nbconvert_exporter": "python",
   "pygments_lexer": "ipython3",
   "version": "3.11.7"
  }
 },
 "nbformat": 4,
 "nbformat_minor": 5
}
