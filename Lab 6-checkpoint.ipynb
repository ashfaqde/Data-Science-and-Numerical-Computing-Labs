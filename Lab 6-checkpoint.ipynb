{
 "cells": [
  {
   "cell_type": "code",
   "execution_count": 1,
   "id": "02ae7090-e62f-4d05-8b8a-3c70bffa68a7",
   "metadata": {},
   "outputs": [
    {
     "name": "stdout",
     "output_type": "stream",
     "text": [
      "Area: 15\n",
      "Perimeter: 16\n"
     ]
    }
   ],
   "source": [
    "class Rectangle:\n",
    "    def __init__(self, length, width):\n",
    "        self.length = length\n",
    "        self.width = width\n",
    "\n",
    "    def area(self):\n",
    "        return self.length * self.width\n",
    "\n",
    "    def perimeter(self):\n",
    "        return 2 * (self.length + self.width)\n",
    "\n",
    "rect = Rectangle(5, 3)\n",
    "print(\"Area:\", rect.area())         \n",
    "print(\"Perimeter:\", rect.perimeter()) "
   ]
  },
  {
   "cell_type": "code",
   "execution_count": 2,
   "id": "4d889f3b-0312-4f7a-bc16-85ca52c8fa5d",
   "metadata": {},
   "outputs": [
    {
     "name": "stdout",
     "output_type": "stream",
     "text": [
      "Dog sound: Woof!\n",
      "Cat sound: Meow!\n",
      "Bird sound: Chirp!\n",
      "Dog is fetching the ball!\n",
      "Cat is climbing the tree!\n",
      "Bird is flying in the sky!\n"
     ]
    }
   ],
   "source": [
    "class Animal:\n",
    "    def sound(self):\n",
    "        raise NotImplementedError(\"Subclasses should implement this method!\")\n",
    "\n",
    "class Dog(Animal):\n",
    "    def sound(self):\n",
    "        return \"Woof!\"\n",
    "\n",
    "    def fetch(self):\n",
    "        return \"Dog is fetching the ball!\"\n",
    "\n",
    "class Cat(Animal):\n",
    "    def sound(self):\n",
    "        return \"Meow!\"\n",
    "\n",
    "    def climb(self):\n",
    "        return \"Cat is climbing the tree!\"\n",
    "\n",
    "class Bird(Animal):\n",
    "    def sound(self):\n",
    "        return \"Chirp!\"\n",
    "\n",
    "    def fly(self):\n",
    "        return \"Bird is flying in the sky!\"\n",
    "\n",
    "dog = Dog()\n",
    "cat = Cat()\n",
    "bird = Bird()\n",
    "\n",
    "animals = [dog, cat, bird]\n",
    "for animal in animals:\n",
    "    print(f\"{animal.__class__.__name__} sound: {animal.sound()}\")\n",
    "\n",
    "print(dog.fetch())  \n",
    "print(cat.climb()) \n",
    "print(bird.fly()) "
   ]
  },
  {
   "cell_type": "code",
   "execution_count": 4,
   "id": "dc7c13c1-64c0-4377-bbcb-fa7d01d36f8f",
   "metadata": {},
   "outputs": [
    {
     "name": "stdout",
     "output_type": "stream",
     "text": [
      "Area of Rectangle: 15\n",
      "Area of Circle: 50.27\n"
     ]
    }
   ],
   "source": [
    "import math\n",
    "class Shape:\n",
    "    def area(self):\n",
    "        raise NotImplementedError(\"Subclasses should implement this method!\")\n",
    "\n",
    "class Rectangle(Shape):\n",
    "    def __init__(self, length, width):\n",
    "        self.length = length\n",
    "        self.width = width\n",
    "\n",
    "    def area(self):\n",
    "        return self.length * self.width\n",
    "\n",
    "class Circle(Shape):\n",
    "    def __init__(self, radius):\n",
    "        self.radius = radius\n",
    "\n",
    "    def area(self):\n",
    "        return math.pi * self.radius ** 2\n",
    "\n",
    "rect = Rectangle(5, 3)\n",
    "circle = Circle(4)\n",
    "\n",
    "print(f\"Area of Rectangle: {rect.area()}\")  \n",
    "print(f\"Area of Circle: {circle.area():.2f}\") "
   ]
  },
  {
   "cell_type": "code",
   "execution_count": null,
   "id": "49290383-c41f-468e-b22d-425477ec8d9a",
   "metadata": {},
   "outputs": [],
   "source": []
  }
 ],
 "metadata": {
  "kernelspec": {
   "display_name": "Python 3 (ipykernel)",
   "language": "python",
   "name": "python3"
  },
  "language_info": {
   "codemirror_mode": {
    "name": "ipython",
    "version": 3
   },
   "file_extension": ".py",
   "mimetype": "text/x-python",
   "name": "python",
   "nbconvert_exporter": "python",
   "pygments_lexer": "ipython3",
   "version": "3.11.7"
  }
 },
 "nbformat": 4,
 "nbformat_minor": 5
}
